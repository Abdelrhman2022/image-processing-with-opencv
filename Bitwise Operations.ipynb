{
 "cells": [
  {
   "cell_type": "code",
   "execution_count": 1,
   "id": "9839f9b9",
   "metadata": {},
   "outputs": [],
   "source": [
    "#import libaries\n",
    "import numpy as np\n",
    "import cv2"
   ]
  },
  {
   "cell_type": "code",
   "execution_count": 2,
   "id": "ad89db77",
   "metadata": {},
   "outputs": [],
   "source": [
    "#Create 2 Images with drawing inside rectangle (wihte, Black)\n",
    "image1 = np.zeros([224,224,3],np.uint8)\n",
    "image1 = cv2.rectangle(image1, (0,0), (112,224), (255,255,255), -1)\n",
    "image2 = np.full([256,256,3], 255, dtype = np.uint8)\n",
    "image2 = cv2.rectangle(image2, (100,100), (150,200), (0,0,0), -1)"
   ]
  },
  {
   "cell_type": "code",
   "execution_count": 11,
   "id": "fa1a3e6d",
   "metadata": {},
   "outputs": [
    {
     "data": {
      "text/plain": [
       "-1"
      ]
     },
     "execution_count": 11,
     "metadata": {},
     "output_type": "execute_result"
    }
   ],
   "source": [
    "cv2.imshow(\"image1\", image1)\n",
    "cv2.imshow(\"image2\", image2)\n",
    "cv2.waitKey(0)"
   ]
  },
  {
   "cell_type": "code",
   "execution_count": 3,
   "id": "ea2de6cd",
   "metadata": {},
   "outputs": [],
   "source": [
    "#resize 2 images in the same shape before implementing any Bitwise Operations\n",
    "image1 = cv2.resize(image1, (224,224))\n",
    "image2 = cv2.resize(image2, (224,224))"
   ]
  },
  {
   "cell_type": "code",
   "execution_count": 9,
   "id": "e8b24ea5",
   "metadata": {},
   "outputs": [
    {
     "data": {
      "text/plain": [
       "-1"
      ]
     },
     "execution_count": 9,
     "metadata": {},
     "output_type": "execute_result"
    }
   ],
   "source": [
    "# NOT Bitwise Operation\n",
    "bit_not1 = cv2.bitwise_not(image1)\n",
    "cv2.imshow(\"bitwise_not\", bit_not1)\n",
    "cv2.waitKey(0)"
   ]
  },
  {
   "cell_type": "code",
   "execution_count": 8,
   "id": "351b342f",
   "metadata": {},
   "outputs": [
    {
     "data": {
      "text/plain": [
       "-1"
      ]
     },
     "execution_count": 8,
     "metadata": {},
     "output_type": "execute_result"
    }
   ],
   "source": [
    "# NOT Bitwise Operation\n",
    "bit_not2 = cv2.bitwise_not(image2)\n",
    "cv2.imshow(\"bitwise_not\", bit_not2)\n",
    "cv2.waitKey(0)"
   ]
  },
  {
   "cell_type": "code",
   "execution_count": 5,
   "id": "426a6d74",
   "metadata": {},
   "outputs": [
    {
     "data": {
      "text/plain": [
       "-1"
      ]
     },
     "execution_count": 5,
     "metadata": {},
     "output_type": "execute_result"
    }
   ],
   "source": [
    "# AND Bitwise Operation\n",
    "bit_and = cv2.bitwise_and(image1, image2)\n",
    "cv2.imshow(\"bitwise_and\", bit_and)\n",
    "cv2.waitKey(0)"
   ]
  },
  {
   "cell_type": "code",
   "execution_count": 6,
   "id": "223afb61",
   "metadata": {},
   "outputs": [
    {
     "data": {
      "text/plain": [
       "-1"
      ]
     },
     "execution_count": 6,
     "metadata": {},
     "output_type": "execute_result"
    }
   ],
   "source": [
    "# OR Bitwise Operation\n",
    "bit_or = cv2.bitwise_or(image1, image2)\n",
    "cv2.imshow(\"bitwise_or\", bit_or)\n",
    "cv2.waitKey(0)"
   ]
  },
  {
   "cell_type": "code",
   "execution_count": 7,
   "id": "e56ae83a",
   "metadata": {},
   "outputs": [
    {
     "data": {
      "text/plain": [
       "-1"
      ]
     },
     "execution_count": 7,
     "metadata": {},
     "output_type": "execute_result"
    }
   ],
   "source": [
    "# XOR Bitwise Operation\n",
    "bit_xor = cv2.bitwise_xor(image1,image2)\n",
    "cv2.imshow(\"bitwise_xor\", bit_xor)\n",
    "cv2.waitKey(0)"
   ]
  },
  {
   "cell_type": "code",
   "execution_count": null,
   "id": "04e12154",
   "metadata": {},
   "outputs": [],
   "source": []
  }
 ],
 "metadata": {
  "kernelspec": {
   "display_name": "Python 3 (ipykernel)",
   "language": "python",
   "name": "python3"
  },
  "language_info": {
   "codemirror_mode": {
    "name": "ipython",
    "version": 3
   },
   "file_extension": ".py",
   "mimetype": "text/x-python",
   "name": "python",
   "nbconvert_exporter": "python",
   "pygments_lexer": "ipython3",
   "version": "3.7.11"
  }
 },
 "nbformat": 4,
 "nbformat_minor": 5
}
