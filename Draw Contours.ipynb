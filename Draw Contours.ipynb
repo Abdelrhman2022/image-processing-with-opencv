{
 "cells": [
  {
   "cell_type": "code",
   "execution_count": 3,
   "id": "56548d89",
   "metadata": {},
   "outputs": [],
   "source": [
    "import numpy as np\n",
    "import cv2"
   ]
  },
  {
   "cell_type": "code",
   "execution_count": 4,
   "id": "4eff3351",
   "metadata": {},
   "outputs": [],
   "source": [
    "img = cv2.imread(r'objects.png')"
   ]
  },
  {
   "cell_type": "code",
   "execution_count": 5,
   "id": "e2beb56e",
   "metadata": {},
   "outputs": [],
   "source": [
    "img = cv2.resize(img, (512,512))"
   ]
  },
  {
   "cell_type": "code",
   "execution_count": 6,
   "id": "c068ecc8",
   "metadata": {},
   "outputs": [],
   "source": [
    "img_gray = cv2.cvtColor(img, cv2.COLOR_RGB2GRAY)"
   ]
  },
  {
   "cell_type": "code",
   "execution_count": 13,
   "id": "1c8bddf6",
   "metadata": {},
   "outputs": [],
   "source": [
    "_ , threshold = cv2.threshold(img_gray, 100, 200, 0)"
   ]
  },
  {
   "cell_type": "code",
   "execution_count": 14,
   "id": "086cd183",
   "metadata": {},
   "outputs": [],
   "source": [
    "contours, hierarchy  = cv2.findContours(threshold, cv2.RETR_TREE, cv2.CHAIN_APPROX_NONE )"
   ]
  },
  {
   "cell_type": "code",
   "execution_count": 15,
   "id": "83b21bf4",
   "metadata": {},
   "outputs": [
    {
     "name": "stdout",
     "output_type": "stream",
     "text": [
      "Number of countours 90\n"
     ]
    }
   ],
   "source": [
    "print(\"Number of countours \"+ str(len(contours)))"
   ]
  },
  {
   "cell_type": "code",
   "execution_count": 16,
   "id": "b5947822",
   "metadata": {},
   "outputs": [
    {
     "data": {
      "text/plain": [
       "array([[[0, 0]],\n",
       "\n",
       "       [[0, 1]],\n",
       "\n",
       "       [[0, 2]],\n",
       "\n",
       "       ...,\n",
       "\n",
       "       [[3, 0]],\n",
       "\n",
       "       [[2, 0]],\n",
       "\n",
       "       [[1, 0]]], dtype=int32)"
      ]
     },
     "execution_count": 16,
     "metadata": {},
     "output_type": "execute_result"
    }
   ],
   "source": [
    "contours[0]"
   ]
  },
  {
   "cell_type": "code",
   "execution_count": 21,
   "id": "d52a7e7b",
   "metadata": {},
   "outputs": [
    {
     "data": {
      "text/plain": [
       "array([[[  0, 255,   0],\n",
       "        [  0, 255,   0],\n",
       "        [  0, 255,   0],\n",
       "        ...,\n",
       "        [  0, 255,   0],\n",
       "        [  0, 255,   0],\n",
       "        [  0, 255,   0]],\n",
       "\n",
       "       [[  0, 255,   0],\n",
       "        [  0, 255,   0],\n",
       "        [  0, 255,   0],\n",
       "        ...,\n",
       "        [  0, 255,   0],\n",
       "        [  0, 255,   0],\n",
       "        [  0, 255,   0]],\n",
       "\n",
       "       [[  0, 255,   0],\n",
       "        [  0, 255,   0],\n",
       "        [  0, 255,   0],\n",
       "        ...,\n",
       "        [  0, 255,   0],\n",
       "        [  0, 255,   0],\n",
       "        [  0, 255,   0]],\n",
       "\n",
       "       ...,\n",
       "\n",
       "       [[  0, 255,   0],\n",
       "        [  0, 255,   0],\n",
       "        [  0, 255,   0],\n",
       "        ...,\n",
       "        [  0, 255,   0],\n",
       "        [  0, 255,   0],\n",
       "        [  0, 255,   0]],\n",
       "\n",
       "       [[  0, 255,   0],\n",
       "        [  0, 255,   0],\n",
       "        [  0, 255,   0],\n",
       "        ...,\n",
       "        [  0, 255,   0],\n",
       "        [  0, 255,   0],\n",
       "        [  0, 255,   0]],\n",
       "\n",
       "       [[  0, 255,   0],\n",
       "        [  0, 255,   0],\n",
       "        [  0, 255,   0],\n",
       "        ...,\n",
       "        [  0, 255,   0],\n",
       "        [  0, 255,   0],\n",
       "        [  0, 255,   0]]], dtype=uint8)"
      ]
     },
     "execution_count": 21,
     "metadata": {},
     "output_type": "execute_result"
    }
   ],
   "source": [
    "cv2.drawContours(img, contours, -1 , (0,255,0), 3)"
   ]
  },
  {
   "cell_type": "code",
   "execution_count": 22,
   "id": "ce74dc04",
   "metadata": {},
   "outputs": [],
   "source": [
    "cv2.imshow(\"image\", img)\n",
    "cv2.imshow(\"image gray\", img_gray)\n",
    "cv2.imshow(\"threshold\", threshold)\n",
    "\n",
    "cv2.waitKey(0)\n",
    "cv2.destroyAllWindows()"
   ]
  },
  {
   "cell_type": "code",
   "execution_count": null,
   "id": "402f68e9",
   "metadata": {},
   "outputs": [],
   "source": []
  }
 ],
 "metadata": {
  "kernelspec": {
   "display_name": "Python 3 (ipykernel)",
   "language": "python",
   "name": "python3"
  },
  "language_info": {
   "codemirror_mode": {
    "name": "ipython",
    "version": 3
   },
   "file_extension": ".py",
   "mimetype": "text/x-python",
   "name": "python",
   "nbconvert_exporter": "python",
   "pygments_lexer": "ipython3",
   "version": "3.9.12"
  }
 },
 "nbformat": 4,
 "nbformat_minor": 5
}
